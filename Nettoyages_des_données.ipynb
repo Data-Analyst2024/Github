{
  "nbformat": 4,
  "nbformat_minor": 0,
  "metadata": {
    "colab": {
      "provenance": [],
      "authorship_tag": "ABX9TyOGYBkG3/wFX8PQMkcnC8bS",
      "include_colab_link": true
    },
    "kernelspec": {
      "name": "python3",
      "display_name": "Python 3"
    },
    "language_info": {
      "name": "python"
    }
  },
  "cells": [
    {
      "cell_type": "markdown",
      "metadata": {
        "id": "view-in-github",
        "colab_type": "text"
      },
      "source": [
        "<a href=\"https://colab.research.google.com/github/Data-Analyst2024/Github/blob/main/Nettoyages_des_donn%C3%A9es.ipynb\" target=\"_parent\"><img src=\"https://colab.research.google.com/assets/colab-badge.svg\" alt=\"Open In Colab\"/></a>"
      ]
    },
    {
      "cell_type": "code",
      "execution_count": null,
      "metadata": {
        "id": "l8x0DvchL2ZK"
      },
      "outputs": [],
      "source": [
        "https://www.youtube.com/watch?v=BcWRljjAAfY&t=424s"
      ]
    },
    {
      "cell_type": "code",
      "source": [
        "# Puisque isna() nous retourne un booléen, il est relativement simple, via l'indexation conditionnelle, d'afficher les individus concernés.\n",
        "#Affichons par exemple l'identifiant, le nom ainsi que l'adresse mail des clients dont le sexe est manquant\n",
        "\n",
        "df[df['sexe'].isna()][['identifiant', 'nom', 'mail']]\n",
        "\n",
        "https://gorenja.com/article/display/python_valeurs_manquantes"
      ],
      "metadata": {
        "id": "ig3oC84W21zV"
      },
      "execution_count": null,
      "outputs": []
    },
    {
      "cell_type": "code",
      "source": [
        "size = df.shape\n",
        "nan_values = df.isna().sum()\n",
        "\n",
        "nan_values = nan_values.sort_values(ascending=True)*100/size[0]\n",
        "\n",
        "https://larevueia.fr/4-methodes-pour-gerer-les-donnees-manquantes-en-machine-learning-avec-pandas/"
      ],
      "metadata": {
        "id": "Y_0fXzzr3p5m"
      },
      "execution_count": null,
      "outputs": []
    }
  ]
}